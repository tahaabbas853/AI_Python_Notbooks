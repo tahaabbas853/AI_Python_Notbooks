{
 "cells": [
  {
   "cell_type": "markdown",
   "id": "e41bae0e",
   "metadata": {},
   "source": [
    "## Taha Abbas Ali P200119 AI Assignment 2\n",
    "### Frequency Analysis, Encryption and Decryption using Substitution Teachnique"
   ]
  },
  {
   "cell_type": "code",
   "execution_count": 7,
   "id": "c1b3c470",
   "metadata": {},
   "outputs": [],
   "source": [
    "# frequency count of each printable ASCII character in plain text\n",
    "def frequency_analysis(message,encrypted_message):\n",
    "    plain_freq = {}\n",
    "    for c in message:\n",
    "        if ord(c) >= 32 and ord(c) <= 126:\n",
    "            if c in plain_freq:\n",
    "                plain_freq[c] += 1\n",
    "            else:\n",
    "                plain_freq[c] = 1\n",
    "    \n",
    "    # frequency count of each printable ASCII character in encrypted text\n",
    "    encrypted_freq = {}\n",
    "    for c in encrypted_message:\n",
    "        if ord(c) >= 32 and ord(c) <= 126:\n",
    "            if c in encrypted_freq:\n",
    "                encrypted_freq[c] += 1\n",
    "            else:\n",
    "                encrypted_freq[c] = 1\n",
    "    \n",
    "    # Print the frequency tables\n",
    "    print(\"Frequency analysis of plain text:\")\n",
    "    for c, count in plain_freq.items():\n",
    "        print(f\"{c}: {count}\")\n",
    "\n",
    "    print(\"Frequency analysis of encrypted text:\")\n",
    "    for c, count in encrypted_freq.items():\n",
    "        print(f\"{c}: {count}\")\n",
    "    return plain_freq, encrypted_freq"
   ]
  },
  {
   "cell_type": "code",
   "execution_count": 8,
   "id": "e3efdae1",
   "metadata": {
    "scrolled": false
   },
   "outputs": [
    {
     "name": "stdout",
     "output_type": "stream",
     "text": [
      "['|', 'y', '/', '~', '<', 't', 'Q', 'Z', 'v', 'p', '1', 'C', 'g', '[', 'B', 'Y', ' ', 'q', \"'\", 'J', 'F', '4', 'E', 'S', '\\\\', '.', 'e', ',', 'h', 'd', '}', '2', 'L', 'O', '6', 'c', ';', 'x', 'K', '%', '+', '?', '(', 'P', 'T', 'G', '-', 'k', '#', '>', 'U', '3', 'V', '\"', 'n', 'w', 'M', '8', '{', '*', 'i', '$', '9', 'm', 'H', '=', 'W', 'r', 'j', '@', ':', 'a', '&', '`', 'f', 'o', '_', '5', ']', 'D', '7', '^', ' ', 's', ')', 'l', '!', 'X', 'I', 'z', 'R', '0', 'b', 'A', 'u', 'N'] \n",
      "\n",
      "95 {'0': '|', '1': 'y', '2': '/', '3': '~', '4': '<', '5': 't', '6': 'Q', '7': 'Z', '8': 'v', '9': 'p', 'a': '1', 'b': 'C', 'c': 'g', 'd': '[', 'e': 'B', 'f': 'Y', 'g': ' ', 'h': 'q', 'i': \"'\", 'j': 'J', 'k': 'F', 'l': '4', 'm': 'E', 'n': 'S', 'o': '\\\\', 'p': '.', 'q': 'e', 'r': ',', 's': 'h', 't': 'd', 'u': '}', 'v': '2', 'w': 'L', 'x': 'O', 'y': '6', 'z': 'c', 'A': ';', 'B': 'x', 'C': 'K', 'D': '%', 'E': '+', 'F': '?', 'G': '(', 'H': 'P', 'I': 'T', 'J': 'G', 'K': '-', 'L': 'k', 'M': '#', 'N': '>', 'O': 'U', 'P': '3', 'Q': 'V', 'R': '\"', 'S': 'n', 'T': 'w', 'U': 'M', 'V': '8', 'W': '{', 'X': '*', 'Y': 'i', 'Z': '$', '!': '9', '\"': 'm', '#': 'H', '$': '=', '%': 'W', '&': 'r', \"'\": 'j', '(': '@', ')': ':', '*': 'a', '+': '&', ',': '`', '-': 'f', '.': 'o', '/': '_', ':': '5', ';': ']', '<': 'D', '=': '7', '>': '^', '?': ' ', '@': 's', '[': ')', '\\\\': 'l', ']': '!', '^': 'X', '_': 'I', '`': 'z', '{': 'R', '|': '0', '}': 'b', '~': 'A', ' ': 'N'} \n",
      "\n",
      "hello world I am here\n",
      " \n",
      "\n",
      "qB44\\NL\\,4[NTN1ENqB,B\n",
      " \n",
      "\n",
      "Frequency analysis of plain text:\n",
      "h: 2\n",
      "e: 3\n",
      "l: 3\n",
      "o: 2\n",
      " : 4\n",
      "w: 1\n",
      "r: 2\n",
      "d: 1\n",
      "I: 1\n",
      "a: 1\n",
      "m: 1\n",
      "Frequency analysis of encrypted text:\n",
      "q: 2\n",
      "B: 3\n",
      "4: 3\n",
      "\\: 2\n",
      "N: 4\n",
      "L: 1\n",
      ",: 2\n",
      "[: 1\n",
      "T: 1\n",
      "1: 1\n",
      "E: 1\n",
      "\n",
      "The Sum of frequency_analysis for both message and encrypted are equal therefore now decrypting message with the help of cipher \n",
      "\n",
      "Decrypted plaintext: hello world I am here\n",
      "\n"
     ]
    }
   ],
   "source": [
    "import string\n",
    "import random\n",
    "\n",
    "\n",
    "alphabet = string.printable[:-5] + \" \"   # Printable Characters\n",
    "cipherkey = list(alphabet) \n",
    "random.shuffle(cipherkey)               # to shuffle everytime\n",
    "\n",
    "\n",
    "\n",
    "\n",
    "def encrypt_substitution(message, cipher):\n",
    "    # Encrypts the given message using the provided substitution cipher\n",
    "    encrypted = \"\"\n",
    "    for char in message:\n",
    "        if char in cipher:\n",
    "            encrypted += cipher[char]\n",
    "        else:\n",
    "            encrypted += char\n",
    "    return encrypted\n",
    "\n",
    "def decrypt_substitution(message, cipher):\n",
    "    #Decrypts the given message using the provided substitution cipher\n",
    "    decrypted = \"\"\n",
    "    for char in message:\n",
    "        if char in cipher.values():\n",
    "            for key, value in cipher.items():\n",
    "                if value == char:\n",
    "                    decrypted += key\n",
    "        else:\n",
    "            decrypted += char\n",
    "    return decrypted\n",
    "\n",
    "print(cipherkey, \"\\n\")\n",
    "\n",
    "# the cipher map\n",
    "ciphermap = {}\n",
    "for i in range(96):\n",
    "    ciphermap[alphabet[i]] = cipherkey[i]\n",
    "    \n",
    "    \n",
    "print(len(ciphermap), ciphermap, \"\\n\")  \n",
    "# Read the given file\n",
    "with open('dummy.txt', 'r') as f:\n",
    "    message = f.read()\n",
    "    \n",
    "print(message,\"\\n\")\n",
    "encrypted_text = encrypt_substitution(message, ciphermap)\n",
    "print(encrypted_text,\"\\n\")\n",
    "\n",
    "plain_freq, encrypted_freq = frequency_analysis(message,encrypted_text)\n",
    "\n",
    "if (sum(plain_freq.values()) == sum(encrypted_freq.values())):\n",
    "    print(\"\\nThe Sum of frequency_analysis for both message and encrypted are equal therefore now decrypting message with the help of cipher \")\n",
    "    decrypted_text = decrypt_substitution(encrypted_text, ciphermap)\n",
    "\n",
    "\n",
    "# Print the decrypted message\n",
    "print('\\nDecrypted plaintext:', decrypted_text)\n",
    "\n",
    "\n",
    "# Write the decrypted text to a new file\n",
    "with open('dec.txt', 'w') as output_file:\n",
    "    output_file.write(decrypted_text)"
   ]
  },
  {
   "cell_type": "code",
   "execution_count": 9,
   "id": "c430291b",
   "metadata": {},
   "outputs": [
    {
     "data": {
      "text/plain": [
       "96"
      ]
     },
     "execution_count": 9,
     "metadata": {},
     "output_type": "execute_result"
    }
   ],
   "source": [
    "len(cipherkey)"
   ]
  },
  {
   "cell_type": "code",
   "execution_count": 10,
   "id": "b9b077b3",
   "metadata": {},
   "outputs": [],
   "source": [
    "# Count frequency of each printable ASCII character in plain text\n",
    "def frequency_analysis(message,encrypted_message):\n",
    "    plain_freq = {}\n",
    "    for c in message:\n",
    "        if ord(c) >= 32 and ord(c) <= 126:\n",
    "            if c in plain_freq:\n",
    "                plain_freq[c] += 1\n",
    "            else:\n",
    "                plain_freq[c] = 1\n",
    "    \n",
    "    # Count frequency of each printable ASCII character in encrypted text\n",
    "    encrypted_freq = {}\n",
    "    for c in encrypted_message:\n",
    "        if ord(c) >= 32 and ord(c) <= 126:\n",
    "            if c in encrypted_freq:\n",
    "                encrypted_freq[c] += 1\n",
    "            else:\n",
    "                encrypted_freq[c] = 1\n",
    "    \n",
    "    # Print the frequency tables\n",
    "    print(\"Frequency analysis of plain text:\")\n",
    "    for c, count in plain_freq.items():\n",
    "        print(f\"{c}: {count}\")\n",
    "\n",
    "    print(\"Frequency analysis of encrypted text:\")\n",
    "    for c, count in encrypted_freq.items():\n",
    "        print(f\"{c}: {count}\")\n",
    "    return plain_freq, encrypted_freq"
   ]
  },
  {
   "cell_type": "code",
   "execution_count": 11,
   "id": "86edd435",
   "metadata": {},
   "outputs": [
    {
     "data": {
      "text/plain": [
       "95"
      ]
     },
     "execution_count": 11,
     "metadata": {},
     "output_type": "execute_result"
    }
   ],
   "source": [
    "len( string.printable[:-5])"
   ]
  },
  {
   "cell_type": "code",
   "execution_count": 12,
   "id": "d231c78a",
   "metadata": {
    "scrolled": false
   },
   "outputs": [
    {
     "data": {
      "text/plain": [
       "'0123456789abcdefghijklmnopqrstuvwxyzABCDEFGHIJKLMNOPQRSTUVWXYZ!\"#$%&\\'()*+,-./:;<=>?@[\\\\]^_`{|}~ '"
      ]
     },
     "execution_count": 12,
     "metadata": {},
     "output_type": "execute_result"
    }
   ],
   "source": [
    " string.printable[:-5]"
   ]
  },
  {
   "cell_type": "code",
   "execution_count": 16,
   "id": "3d049af3",
   "metadata": {},
   "outputs": [
    {
     "data": {
      "text/plain": [
       "'$'"
      ]
     },
     "execution_count": 16,
     "metadata": {},
     "output_type": "execute_result"
    }
   ],
   "source": [
    "alphabet[65]"
   ]
  },
  {
   "cell_type": "code",
   "execution_count": null,
   "id": "1e9189d5",
   "metadata": {},
   "outputs": [],
   "source": []
  }
 ],
 "metadata": {
  "kernelspec": {
   "display_name": "Python 3 (ipykernel)",
   "language": "python",
   "name": "python3"
  },
  "language_info": {
   "codemirror_mode": {
    "name": "ipython",
    "version": 3
   },
   "file_extension": ".py",
   "mimetype": "text/x-python",
   "name": "python",
   "nbconvert_exporter": "python",
   "pygments_lexer": "ipython3",
   "version": "3.8.10"
  }
 },
 "nbformat": 4,
 "nbformat_minor": 5
}
