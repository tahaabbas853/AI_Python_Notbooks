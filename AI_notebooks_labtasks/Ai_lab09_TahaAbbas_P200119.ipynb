{
 "cells": [
  {
   "cell_type": "code",
   "execution_count": 1,
   "id": "510e8898",
   "metadata": {},
   "outputs": [
    {
     "name": "stdout",
     "output_type": "stream",
     "text": [
      "Success rate for N = 8: 23.0%\n",
      "[3, 2, 7, 1, 4, 1, 5, 0] \n",
      "\n",
      "[0, 0, 0, 0, 0, 0, 0, 1]\n",
      "[0, 0, 0, 1, 0, 1, 0, 0]\n",
      "[0, 1, 0, 0, 0, 0, 0, 0]\n",
      "[1, 0, 0, 0, 0, 0, 0, 0]\n",
      "[0, 0, 0, 0, 1, 0, 0, 0]\n",
      "[0, 0, 0, 0, 0, 0, 1, 0]\n",
      "[0, 0, 0, 0, 0, 0, 0, 0]\n",
      "[0, 0, 1, 0, 0, 0, 0, 0]\n"
     ]
    }
   ],
   "source": [
    "import random\n",
    "\n",
    "# chess board for 8 queens\n",
    "def random_board(n):\n",
    "    return [random.randint(0, n-1) for _ in range(n)]\n",
    "\n",
    "\n",
    "def check_attacks(board):\n",
    "     # the number of pairs of queens that can attack each other\n",
    "    n = len(board)\n",
    "    attacks = 0\n",
    "    for i in range(n):\n",
    "        for j in range(i+1, n):\n",
    "            if board[i] == board[j] or abs(board[i]-board[j]) == j-i:\n",
    "                attacks += 1\n",
    "    return attacks\n",
    "\n",
    "def hill_climbing(n):\n",
    "    board = [random.randint(0, n-1) for _ in range(n)] \n",
    "    # check_attacks of the initial configuration\n",
    "    f = check_attacks(board) \n",
    "    while True:\n",
    "        best_board = None\n",
    "        best_f = f\n",
    "        for i in range(n):\n",
    "            for j in range(n):\n",
    "                if board[i] != j:\n",
    "                    # small modification to the current configuration\n",
    "                    new_board = list(board)\n",
    "                    new_board[i] = j\n",
    "                    new_f = check_attacks(new_board) # to evaluate the check_attacks of the modified configuration\n",
    "                    if new_f < best_f:\n",
    "                        best_board = new_board\n",
    "                        best_f = new_f\n",
    "        if best_f >= f:\n",
    "            break\n",
    "        else:\n",
    "            board = best_board\n",
    "            f = best_f\n",
    "    return board, f\n",
    "\n",
    "if __name__ == \"__main__\":\n",
    "    n = 8\n",
    "    attempts = 100\n",
    "    successes = 0\n",
    "\n",
    "    for _ in range(attempts):\n",
    "        solution, h = hill_climbing(n)\n",
    "        if h == 0:\n",
    "            successes += 1\n",
    "\n",
    "    success_rate = (successes / attempts) * 100\n",
    "    print(f\"Success rate for N = {8}: {success_rate}%\")\n",
    "\n",
    "    solution = hill_climbing(n)[0]\n",
    "    print(solution, \"\\n\")\n",
    "\n",
    "    \n",
    "arr = [[0 for j in range(8)] for i in range(8)]\n",
    "# Place the list elements on the rows\n",
    "for i, val in enumerate(solution):\n",
    "    arr[val][i] = 1\n",
    "for row in arr:\n",
    "    print(row)"
   ]
  },
  {
   "cell_type": "code",
   "execution_count": null,
   "id": "f051e84d",
   "metadata": {},
   "outputs": [],
   "source": []
  }
 ],
 "metadata": {
  "kernelspec": {
   "display_name": "Python 3 (ipykernel)",
   "language": "python",
   "name": "python3"
  },
  "language_info": {
   "codemirror_mode": {
    "name": "ipython",
    "version": 3
   },
   "file_extension": ".py",
   "mimetype": "text/x-python",
   "name": "python",
   "nbconvert_exporter": "python",
   "pygments_lexer": "ipython3",
   "version": "3.8.10"
  }
 },
 "nbformat": 4,
 "nbformat_minor": 5
}
