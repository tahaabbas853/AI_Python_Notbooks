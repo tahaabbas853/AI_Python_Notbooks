{
 "cells": [
  {
   "cell_type": "code",
   "execution_count": 2,
   "id": "bc3abba4",
   "metadata": {
    "scrolled": true
   },
   "outputs": [
    {
     "data": {
      "text/plain": [
       "array([[1, 1, 1, 1],\n",
       "       [1, 1, 1, 1],\n",
       "       [1, 1, 1, 1],\n",
       "       [1, 1, 1, 1]])"
      ]
     },
     "execution_count": 2,
     "metadata": {},
     "output_type": "execute_result"
    }
   ],
   "source": [
    "# 2D array\n",
    "s = (4,4)\n",
    "arr2d = np.ones(s, dtype=int)\n",
    "arr2d"
   ]
  },
  {
   "cell_type": "code",
   "execution_count": 9,
   "id": "d8ed5ab1",
   "metadata": {},
   "outputs": [
    {
     "name": "stdout",
     "output_type": "stream",
     "text": [
      "[1 1 1 1 1 1 1 1 1 1 1 1 1 1 1 1]\n"
     ]
    }
   ],
   "source": [
    "# Flatten\n",
    "arr2d = arr2d.flatten()\n",
    "print(arr2d)"
   ]
  },
  {
   "cell_type": "code",
   "execution_count": 3,
   "id": "f0467667",
   "metadata": {},
   "outputs": [
    {
     "data": {
      "text/plain": [
       "(4, 4)"
      ]
     },
     "execution_count": 3,
     "metadata": {},
     "output_type": "execute_result"
    }
   ],
   "source": [
    "arr2d.shape"
   ]
  },
  {
   "cell_type": "code",
   "execution_count": 4,
   "id": "1f1ce156",
   "metadata": {},
   "outputs": [
    {
     "data": {
      "text/plain": [
       "array([[0, 0, 0, 0],\n",
       "       [0, 0, 0, 0],\n",
       "       [0, 0, 0, 0],\n",
       "       [0, 0, 0, 0]])"
      ]
     },
     "execution_count": 4,
     "metadata": {},
     "output_type": "execute_result"
    }
   ],
   "source": [
    "s = (4,4)\n",
    "arr1d = np.zeros(s, dtype=int)\n",
    "arr1d"
   ]
  },
  {
   "cell_type": "code",
   "execution_count": 5,
   "id": "7368a3a9",
   "metadata": {},
   "outputs": [
    {
     "data": {
      "text/plain": [
       "(4, 4)"
      ]
     },
     "execution_count": 5,
     "metadata": {},
     "output_type": "execute_result"
    }
   ],
   "source": [
    "arr1d.shape"
   ]
  },
  {
   "cell_type": "code",
   "execution_count": 31,
   "id": "00612193",
   "metadata": {},
   "outputs": [
    {
     "data": {
      "text/plain": [
       "array([1, 1, 1, 1, 1, 1, 1, 1, 1, 1, 1, 1, 1, 1, 1, 1])"
      ]
     },
     "execution_count": 31,
     "metadata": {},
     "output_type": "execute_result"
    }
   ],
   "source": [
    "import numpy as np\n",
    "import random\n",
    "\n",
    "\n",
    "# helper functionss\n",
    "\n",
    "def calculate_fitness(chromosome):\n",
    "    return np.count_nonzero(chromosome == 1)\n",
    "\n",
    "def selection(population, fitnesses):\n",
    "    fitnesses = np.array(fitnesses) + 1e-6\n",
    "    # selection probabilities based on fitness values\n",
    "    total_fitness = sum(fitnesses)\n",
    "    selection_probabilities = [fitness / total_fitness for fitness in fitnesses]\n",
    "    # normalizing the selection probabilities... Probability rule\n",
    "    selection_probabilities = [prob / sum(selection_probabilities) for prob in selection_probabilities]\n",
    "    # two parents randomly selected using the selection probabilities\n",
    "    parents_indices = np.random.choice(len(population), size=2, replace=False, p=selection_probabilities)\n",
    "    parents = [population[i] for i in parents_indices]\n",
    "    return parents\n",
    "\n",
    "def crossover(parents):\n",
    "    # single-point crossover operation on the selected parents\n",
    "    point_of_crossover = random.randint(0, len(parents[0]))\n",
    "    child1 = np.concatenate((parents[0][:point_of_crossover], parents[1][point_of_crossover:]))\n",
    "    child2 = np.concatenate((parents[1][:point_of_crossover], parents[0][point_of_crossover:]))\n",
    "    return [child1, child2]\n",
    "\n",
    "def mutation(children, mutation_rate):\n",
    "    # mutation operator with a low probability value\n",
    "    for i in range(len(children)):\n",
    "        for j in range(len(children[i])):\n",
    "            if np.random.rand() < mutation_rate:\n",
    "                children[i][j] = 1 - children[i][j]\n",
    "    return children\n",
    "\n",
    "def genetic_algo(population, max_iter, mutation_rate):\n",
    "    iteration = 0\n",
    "\n",
    "    while iteration < max_iter:\n",
    "        fitnesses = [calculate_fitness(chromosome) for chromosome in population]\n",
    "\n",
    "        # checking for solution\n",
    "        if np.max(fitnesses) == len(initial_chromosome):\n",
    "            return population[np.argmax(fitnesses)]\n",
    "\n",
    "        # parents selection\n",
    "        parents = selection(population, fitnesses)\n",
    "\n",
    "        # Offsprings\n",
    "        children = crossover(parents)\n",
    "\n",
    "        #  mutation to Offsprings\n",
    "        children = mutation(children, mutation_rate)\n",
    "\n",
    "        # calculating fitness values of the new children\n",
    "        children_fitness = [calculate_fitness(child) for child in children]\n",
    "\n",
    "        # check if any of the children is a solution\n",
    "        if np.max(children_fitness) == len(oned_array):\n",
    "            return children[np.argmax(children_fitness)]\n",
    "\n",
    "        # replace the least fit members of the population with the new children\n",
    "        worst_fitness_indices = np.argsort(fitnesses)[:len(children)]\n",
    "        for i, child in enumerate(children):\n",
    "            population[worst_fitness_indices[i]] = child\n",
    "\n",
    "        iteration += 1\n",
    "\n",
    "    # Return best solution found\n",
    "    return population[np.argmax(fitnesses)]\n",
    "\n",
    "# the initial and goal states\n",
    "initial_state = np.zeros((4, 4), dtype=int)\n",
    "goal_state = np.ones((4, 4), dtype=int)\n",
    "\n",
    "\n",
    "oned_array = initial_state.flatten()\n",
    "\n",
    "# for initial population of chromosomes\n",
    "population_size = 20\n",
    "chromosome_length = 16\n",
    "\n",
    "# 1D NumPy array of zeros\n",
    "population = np.zeros((population_size, chromosome_length), dtype=int)\n",
    "#print(population)\n",
    "\n",
    "# randomly initializing the population with either 0 or 1\n",
    "for i in range(population_size):\n",
    "    for j in range(chromosome_length):\n",
    "        population[i,j] = np.random.randint(2)\n",
    "        \n",
    "#print(population)\n",
    "        \n",
    "\n",
    "max_iter = 1000\n",
    "mutation_rate = 0.01\n",
    "\n",
    "resultant_chromosome = genetic_algo(population, max_iter, mutation_rate)\n",
    "\n",
    "resultant_chromosome"
   ]
  },
  {
   "cell_type": "code",
   "execution_count": null,
   "id": "00e84f03",
   "metadata": {},
   "outputs": [],
   "source": []
  }
 ],
 "metadata": {
  "kernelspec": {
   "display_name": "Python 3 (ipykernel)",
   "language": "python",
   "name": "python3"
  },
  "language_info": {
   "codemirror_mode": {
    "name": "ipython",
    "version": 3
   },
   "file_extension": ".py",
   "mimetype": "text/x-python",
   "name": "python",
   "nbconvert_exporter": "python",
   "pygments_lexer": "ipython3",
   "version": "3.8.10"
  }
 },
 "nbformat": 4,
 "nbformat_minor": 5
}
